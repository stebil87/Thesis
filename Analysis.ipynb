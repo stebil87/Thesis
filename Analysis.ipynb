{
 "cells": [
  {
   "cell_type": "markdown",
   "id": "09b9a759",
   "metadata": {},
   "source": [
    "### Imports  "
   ]
  },
  {
   "cell_type": "code",
   "execution_count": null,
   "id": "b0b42468",
   "metadata": {},
   "outputs": [],
   "source": [
    "from Utils import *"
   ]
  },
  {
   "cell_type": "markdown",
   "id": "11bd06bf",
   "metadata": {},
   "source": [
    "### NPZ to DF and some visualizations"
   ]
  },
  {
   "cell_type": "code",
   "execution_count": 2,
   "id": "3921b2b0",
   "metadata": {},
   "outputs": [],
   "source": [
    "#dfs creation from npz\n",
    "folder_path = r\"C:\\Users\\stebi\\Desktop\\potatoes\\1800\"\n",
    "dataframes = load_npz_files(folder_path)\n",
    "for name, df in dataframes.items():\n",
    "    globals()[name] = df"
   ]
  },
  {
   "cell_type": "code",
   "execution_count": null,
   "id": "1103415d",
   "metadata": {},
   "outputs": [],
   "source": [
    "#500 steps before and after sprouting\n",
    "df_names = [f'df{i+1}' for i in range(32)]\n",
    "for name in df_names:\n",
    "    df = globals()[name]\n",
    "    sprouting_500(df, name)"
   ]
  },
  {
   "cell_type": "code",
   "execution_count": null,
   "id": "d70b49a6",
   "metadata": {},
   "outputs": [],
   "source": [
    "#100 steps before and after sprouting\n",
    "df_names = [f'df{i+1}' for i in range(32)]\n",
    "for name in df_names:\n",
    "    df = globals()[name]\n",
    "    sprouting_100(df, name)"
   ]
  },
  {
   "cell_type": "code",
   "execution_count": null,
   "id": "813f8171",
   "metadata": {},
   "outputs": [],
   "source": [
    "#plot whole TS\n",
    "df_names = [f'df{i+1}' for i in range(32)]\n",
    "for name in df_names:\n",
    "    df = globals()[name]\n",
    "    plot_time_series(df, name)"
   ]
  },
  {
   "cell_type": "code",
   "execution_count": null,
   "id": "a6af5138",
   "metadata": {},
   "outputs": [],
   "source": [
    "#ACF e PACF\n",
    "filtered_df1 = df1.loc[df1['y'] <= 0]\n",
    "combined_signal = filtered_df1.drop(columns='y', errors='ignore').values.flatten()\n",
    "downsampled_signal = downsample_signal(combined_signal, factor=10) \n",
    "plot_acf_pacf(downsampled_signal, 'Signal)')"
   ]
  },
  {
   "cell_type": "code",
   "execution_count": null,
   "id": "abb508a4",
   "metadata": {},
   "outputs": [],
   "source": [
    "#check stationarity\n",
    "stationarity_results_df1 = check_combined_stationarity_kpss(df1)\n",
    "for key, value in stationarity_results_df1.items():\n",
    "    print(f\"{key}: {value}\")"
   ]
  },
  {
   "cell_type": "code",
   "execution_count": null,
   "id": "372ae7ca",
   "metadata": {},
   "outputs": [],
   "source": [
    "#filter out rows with y > 0\n",
    "filtered_dataframes = filter_dataframes(32)"
   ]
  },
  {
   "cell_type": "markdown",
   "id": "07c5add7",
   "metadata": {},
   "source": [
    "### Windowing"
   ]
  },
  {
   "cell_type": "code",
   "execution_count": null,
   "id": "f48db87c",
   "metadata": {},
   "outputs": [],
   "source": [
    "#windowing\n",
    "processed_dataframes_6 = window(filtered_dataframes, 6)\n",
    "processed_dataframes_12 = window(filtered_dataframes, 12)\n",
    "processed_dataframes_18 = window(filtered_dataframes, 18)\n",
    "processed_dataframes_24 = window(filtered_dataframes, 24)"
   ]
  },
  {
   "cell_type": "markdown",
   "id": "79aecec4",
   "metadata": {},
   "source": [
    "### Normalization"
   ]
  },
  {
   "cell_type": "code",
   "execution_count": null,
   "id": "fd9bc10f",
   "metadata": {},
   "outputs": [],
   "source": [
    "#normalization\n",
    "normalized_dataframes_6 = normalize(processed_dataframes_6)\n",
    "normalized_dataframes_12 = normalize(processed_dataframes_12)\n",
    "normalized_dataframes_18 = normalize(processed_dataframes_18)\n",
    "normalized_dataframes_1_day = normalize(processed_dataframes_24)"
   ]
  },
  {
   "cell_type": "markdown",
   "id": "0ea9389f",
   "metadata": {},
   "source": [
    "### Feature generation"
   ]
  },
  {
   "cell_type": "code",
   "execution_count": null,
   "id": "1779f12f",
   "metadata": {},
   "outputs": [],
   "source": [
    "#featgen\n",
    "extracted_features_6 = featgen(normalized_dataframes_6)\n",
    "extracted_features_12 = featgen(normalized_dataframes_12)\n",
    "extracted_features_18 = featgen(normalized_dataframes_18)\n",
    "extracted_features_1_day = featgen(normalized_dataframes_1_day)\n",
    "\n",
    "combined_features_6 = combined(extracted_features_6)\n",
    "combined_features_12 = combined(extracted_features_12)\n",
    "combined_features_18 = combined(extracted_features_18)\n",
    "combined_features_1_day = combined(extracted_features_1_day)"
   ]
  },
  {
   "cell_type": "markdown",
   "id": "732fc4af",
   "metadata": {},
   "source": [
    "### Scaling"
   ]
  },
  {
   "cell_type": "code",
   "execution_count": null,
   "id": "216081f7",
   "metadata": {},
   "outputs": [],
   "source": [
    "#scaling\n",
    "scal_norm_dataframes_6 = scale(combined_features_6, target_column='y')\n",
    "scal_norm_dataframes_12 = scale(combined_features_12, target_column='y')\n",
    "scal_norm_dataframes_18 = scale(combined_features_18, target_column='y')\n",
    "scal_norm_dataframes_1_day = scale(combined_features_1_day, target_column='y')\n"
   ]
  },
  {
   "cell_type": "markdown",
   "id": "53c7585b",
   "metadata": {},
   "source": [
    "## Regression\n",
    "### Define models"
   ]
  },
  {
   "cell_type": "code",
   "execution_count": null,
   "id": "30512a8d",
   "metadata": {},
   "outputs": [],
   "source": [
    "#define models\n",
    "models = {\n",
    "    'XGB': XGBRegressor(),\n",
    "    'ADAB': AdaBoostRegressor(),\n",
    "    'LGBM': lgb.LGBMRegressor()\n",
    "}"
   ]
  },
  {
   "cell_type": "markdown",
   "id": "5391d637",
   "metadata": {},
   "source": [
    "### Modelling with scaling and normalization"
   ]
  },
  {
   "cell_type": "code",
   "execution_count": null,
   "id": "386f9688",
   "metadata": {},
   "outputs": [],
   "source": [
    "#modelling, scal + norm\n",
    "dictionaries = {\n",
    "    '6_h_window': scal_norm_dataframes_6,\n",
    "    '12_h_window': scal_norm_dataframes_12,\n",
    "    '18_h_window': scal_norm_dataframes_18,\n",
    "    '1_d_window': scal_norm_dataframes_1_day\n",
    "}\n",
    "\n",
    "results, individual_maes, individual_predictions = regression(models, dictionaries)\n",
    "pretty_print(results)"
   ]
  },
  {
   "cell_type": "code",
   "execution_count": null,
   "id": "0c0cfe72",
   "metadata": {},
   "outputs": [],
   "source": [
    "#mean day pred\n",
    "mean_days = day_predict(individual_predictions)\n",
    "prettyp(mean_days)"
   ]
  },
  {
   "cell_type": "code",
   "execution_count": null,
   "id": "ff068151",
   "metadata": {},
   "outputs": [],
   "source": [
    "#boxplots\n",
    "create_boxplots(individual_maes)"
   ]
  },
  {
   "cell_type": "code",
   "execution_count": null,
   "id": "f129a409",
   "metadata": {},
   "outputs": [],
   "source": [
    "#line plot\n",
    "plot_lines(individual_maes)"
   ]
  },
  {
   "cell_type": "markdown",
   "id": "d233701c",
   "metadata": {},
   "source": [
    "## Comparison df9 against others"
   ]
  },
  {
   "cell_type": "code",
   "execution_count": null,
   "id": "013835c6",
   "metadata": {},
   "outputs": [],
   "source": [
    "# raw df6, 5, 17 against raw df9\n",
    "df_reference = df9\n",
    "dfs_to_compare = [df5, df6, df17]\n",
    "labels = ['df5', 'df6', 'df17']\n",
    "\n",
    "comparison(df_reference, dfs_to_compare, labels)"
   ]
  },
  {
   "cell_type": "markdown",
   "id": "c591ee44",
   "metadata": {},
   "source": [
    "### Modelling with normalization"
   ]
  },
  {
   "cell_type": "code",
   "execution_count": null,
   "id": "a3365fc7",
   "metadata": {},
   "outputs": [],
   "source": [
    "#modelling,  only norm\n",
    "dictionaries = {\n",
    "    '6_h': combined_features_6,\n",
    "    '12_h': combined_features_12,\n",
    "    '18_h': combined_features_18,\n",
    "    '1_d': combined_features_1_day\n",
    "}\n",
    "\n",
    "results, individual_maes, individual_predictions = regression(models, dictionaries)\n",
    "pretty_print(results)"
   ]
  },
  {
   "cell_type": "code",
   "execution_count": null,
   "id": "dcf4e4ff",
   "metadata": {},
   "outputs": [],
   "source": [
    "#mean day pred\n",
    "mean_days = day_predict(individual_maes)\n",
    "prettyp(mean_days)"
   ]
  },
  {
   "cell_type": "code",
   "execution_count": null,
   "id": "b16f75fd",
   "metadata": {},
   "outputs": [],
   "source": [
    "#boxplot\n",
    "create_boxplots(individual_maes)"
   ]
  },
  {
   "cell_type": "code",
   "execution_count": null,
   "id": "3e814e69",
   "metadata": {},
   "outputs": [],
   "source": [
    "#line plot\n",
    "plot_lines(individual_maes)"
   ]
  },
  {
   "cell_type": "markdown",
   "id": "9ac91dbd",
   "metadata": {},
   "source": [
    "### Modelling without scaling or normalization"
   ]
  },
  {
   "cell_type": "code",
   "execution_count": null,
   "id": "79a97fd9",
   "metadata": {},
   "outputs": [],
   "source": [
    "#featgen, original data no normalization\n",
    "extracted_features_6 = featgen(processed_dataframes_6)\n",
    "extracted_features_12 = featgen(processed_dataframes_12)\n",
    "extracted_features_18 = featgen(processed_dataframes_18)\n",
    "extracted_features_1_day = featgen(processed_dataframes_24)\n",
    "\n",
    "combined_features_6 = combined(extracted_features_6)\n",
    "combined_features_12 = combined(extracted_features_12)\n",
    "combined_features_18 = combined(extracted_features_18)\n",
    "combined_features_1_day = combined(extracted_features_1_day)"
   ]
  },
  {
   "cell_type": "code",
   "execution_count": null,
   "id": "91e971e5",
   "metadata": {},
   "outputs": [],
   "source": [
    "#modelling, no scale no norm\n",
    "dictionaries = {\n",
    "    '6_h': combined_features_6,\n",
    "    '12_h': combined_features_12,\n",
    "    '18_h': combined_features_18,\n",
    "    '1_d': combined_features_1_day\n",
    "}\n",
    "\n",
    "results, individual_maes, individual_predictions = regression(models, dictionaries)\n",
    "pretty_print(results)"
   ]
  },
  {
   "cell_type": "code",
   "execution_count": null,
   "id": "f5b697bb",
   "metadata": {},
   "outputs": [],
   "source": [
    "#mean day pred\n",
    "mean_days = day_predict(individual_maes)\n",
    "pretty_print(mean_days)"
   ]
  },
  {
   "cell_type": "code",
   "execution_count": null,
   "id": "e00fba9b",
   "metadata": {},
   "outputs": [],
   "source": [
    "#boxplot\n",
    "create_boxplots(individual_maes)"
   ]
  },
  {
   "cell_type": "code",
   "execution_count": null,
   "id": "00aebd3e",
   "metadata": {},
   "outputs": [],
   "source": [
    "#line plot\n",
    "plot_lines(individual_maes)"
   ]
  },
  {
   "cell_type": "markdown",
   "id": "94530afa",
   "metadata": {},
   "source": [
    "### Modelling with scaling"
   ]
  },
  {
   "cell_type": "code",
   "execution_count": null,
   "id": "81e2de69",
   "metadata": {},
   "outputs": [],
   "source": [
    "#scaling raw data\n",
    "scaled_dataframes_6 = scale(combined_features_6, target_column='y')\n",
    "scaled_dataframes_12 = scale(combined_features_12, target_column='y')\n",
    "scaled_dataframes_18 = scale(combined_features_18, target_column='y')\n",
    "scaled_dataframes_1_day = scale(combined_features_1_day, target_column='y')"
   ]
  },
  {
   "cell_type": "code",
   "execution_count": null,
   "id": "1605d665",
   "metadata": {},
   "outputs": [],
   "source": [
    "#modelling, only scale\n",
    "dictionaries = {\n",
    "    '6_h': scaled_dataframes_6,\n",
    "    '12_h': scaled_dataframes_12,\n",
    "    '18_h': scaled_dataframes_18,\n",
    "    '1_d': scaled_dataframes_1_day\n",
    "}\n",
    "\n",
    "results, individual_maes, individual_predictions = regression(models, dictionaries)\n",
    "pretty_print(results)"
   ]
  },
  {
   "cell_type": "code",
   "execution_count": null,
   "id": "5116d1e8",
   "metadata": {},
   "outputs": [],
   "source": [
    "#mean day pred\n",
    "mean_days = day_predict(individual_maes)\n",
    "prettyp(mean_days)"
   ]
  },
  {
   "cell_type": "code",
   "execution_count": null,
   "id": "57bcdb6e",
   "metadata": {},
   "outputs": [],
   "source": [
    "#boxplot\n",
    "create_boxplots(individual_maes)"
   ]
  },
  {
   "cell_type": "code",
   "execution_count": null,
   "id": "11b06359",
   "metadata": {},
   "outputs": [],
   "source": [
    "#line plot\n",
    "plot_lines(individual_maes)"
   ]
  },
  {
   "cell_type": "markdown",
   "id": "b3cb14c2",
   "metadata": {},
   "source": [
    "## Raw data"
   ]
  },
  {
   "cell_type": "code",
   "execution_count": null,
   "id": "95c0e874",
   "metadata": {},
   "outputs": [],
   "source": [
    "#group all parquets for each plant\n",
    "#source_dirs = [r\"C:\\Users\\stebi\\Desktop\\potatoes\\year_2021\", r\"C:\\Users\\stebi\\Desktop\\potatoes\\year_2022\"]\n",
    "#target_dir = r\"C:\\Users\\stebi\\Desktop\\potatoes\\organized_stations\"\n",
    "#collect_parquet_files(source_dirs, target_dir)"
   ]
  },
  {
   "cell_type": "code",
   "execution_count": null,
   "id": "82477b8e",
   "metadata": {},
   "outputs": [],
   "source": [
    "#change folder name --> 1 to 32\n",
    "#base_dir = r\"C:\\Users\\stebi\\Desktop\\potatoes\\organized_stations\" \n",
    "#rename_station_folders(base_dir)"
   ]
  },
  {
   "cell_type": "code",
   "execution_count": null,
   "id": "a4d3e94c",
   "metadata": {},
   "outputs": [],
   "source": [
    "#parquet to df\n",
    "base_dir = r\"C:\\Users\\stebi\\Desktop\\potatoes\\organized_stations\" \n",
    "dataframes = merge_parquets_to_dataframes(base_dir) "
   ]
  },
  {
   "cell_type": "code",
   "execution_count": null,
   "id": "8ecf2c21",
   "metadata": {},
   "outputs": [],
   "source": [
    "#clean dataframes (Y,M,D + h,m,s)\n",
    "cleaned_dataframes = clean_all_dataframes(dataframes)"
   ]
  },
  {
   "cell_type": "code",
   "execution_count": null,
   "id": "80563cdf",
   "metadata": {},
   "outputs": [],
   "source": [
    "#gaps analysis\n",
    "gap_results = analyze_gap(cleaned_dataframes)\n",
    "\n",
    "for key, stats in gap_results.items():\n",
    "    print(f\"Summary for dataframe {key}:\")\n",
    "    print(f\"  Total rows: {stats['total_rows']}\")\n",
    "    print(f\"  Total gap seconds: {stats['total_gap_seconds']}\")\n",
    "    print(f\"  Gap percentage: {stats['gap_percentage']:.2f}%\")\n",
    "    print(f\"  Average gap length: {stats['avg_gap_length']:.2f} seconds\")\n",
    "    print(f\"  Number of gaps: {stats['num_gaps']}\")\n",
    "    print()"
   ]
  },
  {
   "cell_type": "code",
   "execution_count": null,
   "id": "f6a42a11",
   "metadata": {},
   "outputs": [],
   "source": [
    "#gaps filling\n",
    "filled_dataframes = fill_gaps(cleaned_dataframes)"
   ]
  },
  {
   "cell_type": "code",
   "execution_count": null,
   "id": "6036b0dc",
   "metadata": {},
   "outputs": [],
   "source": [
    "#gaps check\n",
    "check_temporal_integrity(filled_dataframes)"
   ]
  },
  {
   "cell_type": "code",
   "execution_count": null,
   "id": "d49d5348",
   "metadata": {},
   "outputs": [],
   "source": [
    "#print df1\n",
    "filled_dataframes['df1']"
   ]
  },
  {
   "cell_type": "code",
   "execution_count": null,
   "id": "35a6b9e3",
   "metadata": {},
   "outputs": [],
   "source": [
    "# Add the 'y' column to each dataframe\n",
    "added_dataframes = add_y_column(filled_dataframes, match_table)"
   ]
  },
  {
   "cell_type": "code",
   "execution_count": null,
   "id": "a487e7d9",
   "metadata": {},
   "outputs": [],
   "source": [
    "#sanity check\n",
    "added_dataframes['df1']"
   ]
  },
  {
   "cell_type": "code",
   "execution_count": null,
   "id": "de3b8adf",
   "metadata": {},
   "outputs": [],
   "source": [
    "#drop 'timestamp'\n",
    "added_dataframes_nostamp = drop_timestamp_column(added_dataframes)"
   ]
  },
  {
   "cell_type": "code",
   "execution_count": null,
   "id": "34e20087",
   "metadata": {},
   "outputs": [],
   "source": [
    "#interpolation\n",
    "dataframes = interpolate_mv_column(added_dataframes_nostamp)"
   ]
  },
  {
   "cell_type": "code",
   "execution_count": null,
   "id": "abc23f94",
   "metadata": {},
   "outputs": [],
   "source": [
    "#drop y>0\n",
    "dataframes = drop_rows_y_greater_than_zero(dataframes)"
   ]
  },
  {
   "cell_type": "code",
   "execution_count": null,
   "id": "3b7da8a4",
   "metadata": {},
   "outputs": [],
   "source": [
    "#windowing (6, 12, 18, 24 h)\n",
    "dataframes_6 = window_from_raw(dataframes, 6)\n",
    "dataframes_12 = window_from_raw(dataframes, 12)\n",
    "dataframes_18 = window_from_raw(dataframes, 18)\n",
    "dataframes_24 = window_from_raw(dataframes, 24)"
   ]
  },
  {
   "cell_type": "code",
   "execution_count": null,
   "id": "0242c2ce",
   "metadata": {},
   "outputs": [],
   "source": [
    "#normalize\n",
    "normalized_6 = normalize(dataframes_6)\n",
    "normalized_12 = normalize(dataframes_12)\n",
    "normalized_18 = normalize(dataframes_18)\n",
    "normalized_1_day = normalize(dataframes_24)"
   ]
  },
  {
   "cell_type": "code",
   "execution_count": null,
   "id": "32ff71c4",
   "metadata": {},
   "outputs": [],
   "source": [
    "#featgen\n",
    "extracted_6 = featgen(normalized_6)\n",
    "extracted_12 = featgen(normalized_12)\n",
    "extracted_18 = featgen(normalized_18)\n",
    "extracted_1_day = featgen(normalized_1_day)\n",
    "\n",
    "combined_6 = combined(extracted_6)\n",
    "combined_12 = combined(extracted_12)\n",
    "combined_18 = combined(extracted_18)\n",
    "combined_1_day = combined(extracted_1_day)"
   ]
  },
  {
   "cell_type": "code",
   "execution_count": null,
   "id": "6db936b7",
   "metadata": {},
   "outputs": [],
   "source": [
    "#scaling\n",
    "scal_norm_6 = scale(combined_6, target_column='y')\n",
    "scal_norm_12 = scale(combined_12, target_column='y')\n",
    "scal_norm_18 = scale(combined_18, target_column='y')\n",
    "scal_norm_1_day = scale(combined_1_day, target_column='y')"
   ]
  },
  {
   "cell_type": "code",
   "execution_count": null,
   "id": "73c1eb76",
   "metadata": {},
   "outputs": [],
   "source": [
    "#modelling\n",
    "dictionaries = {\n",
    "    '6_h_window': scal_norm_6,\n",
    "    '12_h_window': scal_norm_12,\n",
    "    '18_h_window': scal_norm_18,\n",
    "    '1_d_window': scal_norm_1_day\n",
    "}\n",
    "\n",
    "results, individual_maes, individual_predictions = regression(models, dictionaries)\n",
    "pretty_print(results)"
   ]
  },
  {
   "cell_type": "code",
   "execution_count": null,
   "id": "38ca7406",
   "metadata": {},
   "outputs": [],
   "source": [
    "#mean day pred\n",
    "mean_days = day_predict(individual_predictions)\n",
    "prettyp(mean_days)"
   ]
  },
  {
   "cell_type": "code",
   "execution_count": null,
   "id": "a3bf71fd",
   "metadata": {},
   "outputs": [],
   "source": [
    "#boxplots\n",
    "create_boxplots(individual_maes)"
   ]
  },
  {
   "cell_type": "code",
   "execution_count": null,
   "id": "c6ecc354",
   "metadata": {},
   "outputs": [],
   "source": [
    "#line plot\n",
    "plot_lines(individual_maes)"
   ]
  }
 ],
 "metadata": {
  "kernelspec": {
   "display_name": "Python 3 (ipykernel)",
   "language": "python",
   "name": "python3"
  },
  "language_info": {
   "codemirror_mode": {
    "name": "ipython",
    "version": 3
   },
   "file_extension": ".py",
   "mimetype": "text/x-python",
   "name": "python",
   "nbconvert_exporter": "python",
   "pygments_lexer": "ipython3",
   "version": "3.11.0"
  }
 },
 "nbformat": 4,
 "nbformat_minor": 5
}
